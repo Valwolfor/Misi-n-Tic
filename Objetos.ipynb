{
 "cells": [
  {
   "cell_type": "markdown",
   "metadata": {},
   "source": [
    "La clase debe tener un método que sea el primero y tenga el parametro self, si no está como parametro las variables no se pueden ver en otros métodos.\n",
    "\n",
    "El método constructor se ejecuta automaticamente y este inicializa los métodos y atributos del objeto. es __init__.  No retorna datos, solo recibe parametros para los atributos (características)"
   ]
  },
  {
   "cell_type": "code",
   "execution_count": 13,
   "metadata": {},
   "outputs": [
    {
     "name": "stdout",
     "output_type": "stream",
     "text": [
      "Gallo Diego\n",
      "Pailas\n"
     ]
    }
   ],
   "source": [
    "class Persona:\n",
    "    def __init__(self, nombre:str, apellido:str):\n",
    "        self.nom = nombre\n",
    "        self.apellido = apellido\n",
    "        self.nota = (float(input(\"Ingrese la nota del estudiante: \\n\")))\n",
    "    \n",
    "    def mostrar(self):\n",
    "        print(self.apellido, self.nom)\n",
    "    \n",
    "    def aprobar(self):\n",
    "        print(\"Aprobó\") if self.nota >= 3.0 else print(\"Pailas\")\n",
    "        \n",
    "x = Persona(\"Diego\", \"Gallo\") #se instancia x con la clase persona, convirtiendolo en objeto. \n",
    "x.mostrar()\n",
    "x.aprobar()"
   ]
  },
  {
   "cell_type": "markdown",
   "metadata": {},
   "source": [
    "Implementar una clase de operaciones en la cual se cargan dos parametros (float) en init \n",
    "Para heredar la nueva clase debe tener como parametro la clase padre o superior, heredando sus atributos y parametros. "
   ]
  },
  {
   "cell_type": "markdown",
   "metadata": {},
   "source": [
    "Vamos a aprender tkinker y sobre interfaz gráfica. \n",
    "\n",
    "Es necesario para mayor organización programación modular. Esto usa los Widgets que son los elementos de la interfaz gráfica como la barra de desplazamiento, botones, caja de texto. \n",
    "\n",
    "Se debe importar el modulo. Aquí no se puede ejecutar toca en archivo aparte. \n",
    "\n",
    "Las etiquetas ayuda a organizar mejor (label)"
   ]
  },
  {
   "cell_type": "code",
   "execution_count": 14,
   "metadata": {},
   "outputs": [],
   "source": [
    "import tkinter as tk\n",
    "\n",
    "ventana = tk.Tk() #llama el método para convertila en una interfaz \n",
    "ventana.title(\"Hola\") #se va configurando las características, el título. Va despues del punto porque es un método ahora que es un tk. \n",
    "ventana.mainloop() #mainloop hace que se mantenga la ventana \n"
   ]
  }
 ],
 "metadata": {
  "interpreter": {
   "hash": "ad2bdc8ecc057115af97d19610ffacc2b4e99fae6737bb82f5d7fb13d2f2c186"
  },
  "kernelspec": {
   "display_name": "Python 3.9.7 ('base')",
   "language": "python",
   "name": "python3"
  },
  "language_info": {
   "codemirror_mode": {
    "name": "ipython",
    "version": 3
   },
   "file_extension": ".py",
   "mimetype": "text/x-python",
   "name": "python",
   "nbconvert_exporter": "python",
   "pygments_lexer": "ipython3",
   "version": "3.9.7"
  },
  "orig_nbformat": 4
 },
 "nbformat": 4,
 "nbformat_minor": 2
}
