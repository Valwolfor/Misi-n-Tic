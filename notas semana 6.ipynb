{
 "cells": [
  {
   "cell_type": "markdown",
   "metadata": {},
   "source": [
    "json es JavaScript object. "
   ]
  },
  {
   "cell_type": "code",
   "execution_count": 6,
   "metadata": {},
   "outputs": [
    {
     "name": "stdout",
     "output_type": "stream",
     "text": [
      "  version                                                                                                                                        configurations\n",
      "0   0.2.0  {'name': 'Python: Archivo actual', 'type': 'python', 'request': 'launch', 'program': '${file}', 'console': 'integratedTerminal', 'justMyCode': True}\n"
     ]
    }
   ],
   "source": [
    "import json\n",
    "import pandas as pd\n",
    "\n",
    "df = pd.read_json(\"launch.json\")\n",
    "print(df.to_string()) #to_string() para poder imprmirlo todo. "
   ]
  },
  {
   "cell_type": "markdown",
   "metadata": {},
   "source": [
    "método pivottable()"
   ]
  },
  {
   "cell_type": "code",
   "execution_count": 34,
   "metadata": {},
   "outputs": [
    {
     "name": "stdout",
     "output_type": "stream",
     "text": [
      "              sum                                                         \\\n",
      "         Cantidad                                      Precio              \n",
      "Fecha  03/05/2022 04/05/2022 05/05/2022 05/06/2022 03/05/2022 04/05/2022   \n",
      "Nombre                                                                     \n",
      "Juan            8          7          1          2        100        180   \n",
      "Laura           8          2          5          6        200        100   \n",
      "\n",
      "                                  count                                   \\\n",
      "                               Cantidad                                    \n",
      "Fecha  05/05/2022 05/06/2022 03/05/2022 04/05/2022 05/05/2022 05/06/2022   \n",
      "Nombre                                                                     \n",
      "Juan           30         10          1          1          1          1   \n",
      "Laura          50         30          1          1          1          1   \n",
      "\n",
      "                                                    \n",
      "           Precio                                   \n",
      "Fecha  03/05/2022 04/05/2022 05/05/2022 05/06/2022  \n",
      "Nombre                                              \n",
      "Juan            1          1          1          1  \n",
      "Laura           1          1          1          1  \n"
     ]
    }
   ],
   "source": [
    "import pandas as pd\n",
    "\n",
    "df1 =pd.DataFrame(\n",
    "    {\n",
    "        'Nombre': ['Laura','Laura','Laura','Laura','Juan','Juan','Juan','Juan'],\n",
    "        'Fecha':['03/05/2022','04/05/2022','05/05/2022','05/06/2022','03/05/2022','04/05/2022','05/05/2022','05/06/2022'],\n",
    "        'Cantidad': [8,2,5,6,8,7,1,2],\n",
    "        'Precio': [200, 100, 50, 30, 100, 180, 30, 10]\n",
    "    }\n",
    ")\n",
    "\n",
    "pivoteandoTabla = pd.pivot_table(df1, index = \"Nombre\", columns = \"Fecha\", aggfunc =[\"sum\", \"count\"])# parametros: datos; index; función agregada. \n",
    "print(pivoteandoTabla)"
   ]
  },
  {
   "cell_type": "markdown",
   "metadata": {},
   "source": [
    "Así me imaginaba las listas.\n",
    "\n",
    "[(Colombia\", \"Español\", 300000.234),...(\"Panama\", \"Inglés\", 2340000.231)]\n",
    "[(Colombia\", \"Español\", [300000.234]),...(\"Panama\", \"Inglés\", [2340000.231])]"
   ]
  },
  {
   "cell_type": "markdown",
   "metadata": {},
   "source": [
    "Vamos a comenzar con la programación por capas de la semana 5 :D "
   ]
  },
  {
   "cell_type": "markdown",
   "metadata": {},
   "source": [
    "Existen tres capas: la primera la presentación o de interfaz del usuario; la de usuario donde está la lógica del programa, los comandos, es un punto intermedio entre las otras dos; y la capa de datos donde se guardan permanentemente los datos. "
   ]
  },
  {
   "cell_type": "markdown",
   "metadata": {},
   "source": [
    "A continuación viene el CRUD\n"
   ]
  },
  {
   "cell_type": "code",
   "execution_count": 30,
   "metadata": {},
   "outputs": [
    {
     "name": "stdout",
     "output_type": "stream",
     "text": [
      "C:/Users/BMO/OneDrive/Documentos/Misión TIC/Practicas/Ciclo 1/listadoTareas.json\n"
     ]
    }
   ],
   "source": [
    "#Librería con la lógica de las operaciones CRUD-> Lógica, está entre el Controlador y el archivo json(Modelo). \n",
    "###############################################\n",
    "#el parametro:\n",
    "    #tareas: es el dic que contiene otros dic con cada funcionalidad. \n",
    "    #identificador: es el valor que el usuario envía para llamar por medio de la clave(igual a lo que llega como argumento) los dicionarios que están dentro del dic tareas. \n",
    "    #tarea_nueva: es un valor que llega como argumento para agregar una tarea(dic al dic.tareas)==tarea_actualizada\n",
    "\n",
    "import pandas as pd\n",
    "import json\n",
    "enlaceGITHub = \"C:/Users/BMO/OneDrive/Documentos/Misión TIC/Practicas/Ciclo 1/listadoTareas.json\"\n",
    "print(enlaceGITHub)\n",
    "#Adición de una tarea (Create)\n",
    "def Create(tareas, identificador, tareaNueva):    \n",
    "    tareas[identificador] = tareaNueva #Mutación del diccionario por referencia, se integra nueva tarea.    \n",
    "\n",
    "#Consultar la información de todas las tareas (Read)\n",
    "def Read(rutaArchivo=enlaceGITHub):\n",
    "\n",
    "    #Cargar el listado de tareas a un diccionario desde la capa de datos (archivo JSON)    \n",
    "    diccionarioTareas = {}#Contenedor del listado de tareas que gestiona la App\n",
    "    try:    \n",
    "        with open(rutaArchivo) as archivo:    #no me acuerdo que hace with. Se que todo archivo se debe abrir.\n",
    "            diccionarioTareas = json.load(archivo)   #carga los datos al diccionario vacío. \n",
    "    except:\n",
    "        print(\"No se pudo cargar la información de la capa de datos\")\n",
    "        return False #Reportar fallo en la carga\n",
    "\n",
    "    #Retornar el contenedor o colección obtenido\n",
    "    return diccionarioTareas\n",
    "\n",
    "#Actualizar una tarea específica (Update)\n",
    "def Update(tareas, identificador, tareaActualizada):\n",
    "    #Revisar los campos que llegan con información para actualizar\n",
    "    for id_campo, campo in tareaActualizada.items():        \n",
    "        if campo:\n",
    "            tareas[identificador][id_campo] = campo #Actualizar el campo del diccionario (referencia)\n",
    "\n",
    "#Eliminar una tarea específica (Delete)\n",
    "def Delete(tareas, identificador):\n",
    "    tareas.pop(identificador)\n",
    "    print(f\"\\nTarea {identificador} eliminada.\")\n",
    "\n",
    "#Operación de escritura en la capa de datos al cierre de la aplicación\n",
    "def Write(tareas, rutaArchivo= enlaceGITHub):\n",
    "    #Descargar contenedor de datos con las modificaciones realizadas por la App\n",
    "    try:\n",
    "        with open(rutaArchivo, 'w') as archivo_json:\n",
    "            json.dump(tareas, archivo_json)  #el segundo parametro será el archivo llamado \"enlaceGITHub\", no sé si quede con ese nombre u el que ya tenía lista de tareas.\n",
    "    except:\n",
    "        print(\"Error: No se pudo guardar la información en la capa de datos.\")\n",
    "        return False\n",
    "    \n",
    "    #Si la escrutra fue exitosa retorno correspondiente\n",
    "    return True"
   ]
  },
  {
   "cell_type": "markdown",
   "metadata": {},
   "source": [
    "Lo anterior son las funciones para CRUD y guardar los datos del archivo en json. Está sería la capa de lógica. "
   ]
  },
  {
   "cell_type": "markdown",
   "metadata": {},
   "source": [
    "Controlador.\n",
    "\n",
    "Vamos a ver el controlador. "
   ]
  },
  {
   "cell_type": "code",
   "execution_count": null,
   "metadata": {},
   "outputs": [],
   "source": [
    "#Aplicación CRUD (Controlador) - Lista de Tareas Pendientes\n",
    "###########################################################\n",
    "\n",
    "#Librerías (capas)\n",
    "import CRUD #Capa lógica o backend básico # también es un modulo, pero que no ha sido creado :D\n",
    "import InterfazConsola as ic #Interfaz para interacción con el usuario UI #Ahora no aparece porque no es un modulo\n",
    "import sys #API para comunicar la App con funciones del sistema operativo\n",
    "\n",
    "#Carga de la base de datos de la aplicación (archivo json)\n",
    "tareas = CRUD.Read()\n",
    "if not(tareas): #Si no se obtiene el listado de tareas del archivo json (Base de Datos)\n",
    "    sys.exit(1) #Terminación de la App reportando error\n",
    "\n",
    "#Iniciar Mainloop de la App\n",
    "#--------------------------\n",
    "mainloop = True\n",
    "while mainloop:\n",
    "\n",
    "    #Solicitar a la interfaz la selección de una opción\n",
    "    opcion = ic.formularioMenuAppCRUD()\n",
    "    \n",
    "    #Si Create fue seleccionado por el usuario en el menú\n",
    "    if opcion == 1:        \n",
    "\n",
    "        #Solicitar a la interfaz mostrar el mensaje\n",
    "        ic.mensaje(\"->Adicionando Tarea\")\n",
    "\n",
    "        #Presentar formulario para encapsular ingreso de datos en diccionario tareaNueva\n",
    "        identificador,tareaNueva = ic.formularioAdicionarTarea()\n",
    "        \n",
    "        #Adicionar la tarea al contenedor\n",
    "        CRUD.Create(tareas, identificador, tareaNueva)        \n",
    "        \n",
    "    #Si el listado general de tareas fue solicitado por el usuario\n",
    "    elif opcion == 2:\n",
    "\n",
    "        #Solicitar a la interfaz mostrar el mensaje\n",
    "        ic.mensaje(\"->Listado de Tareas\")       \n",
    "\n",
    "        #Solicitar a la interfaz que muestre la base de datos de tareas cargada\n",
    "        ic.mostrarTareas(tareas)              \n",
    "        \n",
    "    #Si Update fue seleccionado por el usuario en el menú\n",
    "    elif opcion == 3:\n",
    "\n",
    "        #Solicitar a la interfaz mostrar el mensaje\n",
    "        ic.mensaje(\"->Actualizar Tarea\")       \n",
    "\n",
    "        #Presentar formulario de actualización de tareas\n",
    "        respuestaInterfaz = ic.formularioActualizarTarea(tareas)\n",
    "\n",
    "        #Si la interfaz preparó la actualización\n",
    "        if respuestaInterfaz != False:\n",
    "            #Desempacar información de la respuesta\n",
    "            identificador,tareaActualizada = respuestaInterfaz\n",
    "            #Realizar la actualización\n",
    "            CRUD.Update(tareas, identificador, tareaActualizada)\n",
    "\n",
    "    #Si Delete fue seleccionado por el usuario en el menú\n",
    "    elif opcion == 4:\n",
    "\n",
    "        #Solicitar a la interfaz mostrar el mensaje\n",
    "        ic.mensaje(\"->Eliminar Tarea\") \n",
    "\n",
    "        #Presentar formulario de eliminación de tareas\n",
    "        identificador = ic.formularioEliminarTarea(tareas)\n",
    "\n",
    "        #Si la interfaz preparó la eliminación\n",
    "        if identificador != False:            \n",
    "            #Realizar la eliminación si llega autorización desde la interfaz (identificador)\n",
    "            CRUD.Delete(tareas,identificador)    \n",
    "\n",
    "    #Si la opcíon de salida fue seleccionadA por el usuario en el menú    \n",
    "    elif opcion == 5:\n",
    "        \n",
    "        #Solicitar a la interfaz mostrar el mensaje\n",
    "        ic.mensaje(\"->Ha salido de la aplicación.\") \n",
    "\n",
    "        #Guardar el listado de tareas en la base de datos (archivo json)\n",
    "        if CRUD.Write(tareas):            \n",
    "            #Solicitar a la interfaz reporte de salida exitosa            \n",
    "            ic.mensaje(\"Datos guardados: Cierre exitoso.\")\n",
    "        \n",
    "        #Terminar el mainloop de la aplicación\n",
    "        mainloop = False\n",
    "    \n",
    "    else:\n",
    "\n",
    "        #Solicitar a la interfaz mostrar el mensaje\n",
    "        ic.mensaje(\"Opción inválida!\")"
   ]
  },
  {
   "cell_type": "markdown",
   "metadata": {},
   "source": [
    "Aquí se reciben los datos y se llaman las funciones del modulo.CRUD."
   ]
  },
  {
   "cell_type": "markdown",
   "metadata": {},
   "source": [
    "Interfaz, con la que interactua el usuario."
   ]
  },
  {
   "cell_type": "code",
   "execution_count": null,
   "metadata": {},
   "outputs": [],
   "source": [
    "#Librería para interacción por consola (interfaz)\n",
    "#################################################\n",
    "\n",
    "#Presentar mensaje genérico en pantalla\n",
    "def mensaje(info=''):\n",
    "    print()\n",
    "    print(info)\n",
    "    print()\n",
    "\n",
    "#Formulario menú aplicación CRUD\n",
    "def formularioMenuAppCRUD():\n",
    "    print(\" \")\n",
    "    print(\"-- Aplicación CRUD TareasPendientes ---\\n\")  #deja un espaciecito. \n",
    "    print(\"1. Adicionar Tarea\")\n",
    "    print(\"2. Consultar Tareas\")\n",
    "    print(\"3. Actualizar Tarea\")\n",
    "    print(\"4. Eliminar Tarea\")\n",
    "    print(\"5. Salir\")\n",
    "\n",
    "    #Capturar la opción validando el tipo de dato para retornarlo al controlador\n",
    "    opcion = None\n",
    "    while opcion == None:\n",
    "        try:\n",
    "            opcion = int(input(\"Ingrese una opción: \"))\n",
    "        except:        \n",
    "            print(\"Entrada inválida: Se debe ingresar una opción numérica.\")    \n",
    "\n",
    "    #Retornar opción al controlador\n",
    "    return opcion\n",
    "\n",
    "#Función de validación en la colección recibida del controlador           \n",
    "def estaElemento(identificador, tareas):\n",
    "    \n",
    "    #Extraer de la base de datos (contenedor) los identificadores\n",
    "    conjuntoIdentificadores = set(tareas.keys())\n",
    "    \n",
    "    #Revisar si se encuentra el elemento solicitado        \n",
    "    if identificador in conjuntoIdentificadores:\n",
    "        return True\n",
    "    else:\n",
    "        return False \n",
    "\n",
    "#Formulario para adicionar tareas (Create)\n",
    "def formularioAdicionarTarea():\n",
    "    #Recoger los campos de la tarea\n",
    "    identificador = input(\"Ingrese identificador de la Tarea: \")\n",
    "    descripcion = input(\"Ingrese descripción de Tarea: \")\n",
    "    estado = input(\"Ingrese el estado inicial de la Tarea: \")\n",
    "    #Capturar el tiempo validando el tipo de dato ingresado\n",
    "    tiempo = None\n",
    "    while tiempo == None:\n",
    "        try:\n",
    "            tiempo = int(input(\"Ingrese el tiempo de realización: \"))\n",
    "        except:\n",
    "            print(\"Entrada inválida: Se debe ingresar un tiempo numérico.\")\n",
    "    #Encapsular la nueva tarea\n",
    "    tareaNueva = {\n",
    "                    'descripcion' : descripcion,\n",
    "                    'estado' : estado,\n",
    "                    'tiempo' : tiempo                 \n",
    "                }\n",
    "    #Retornar al controlador el identificador y la nueva tarea\n",
    "    return identificador,tareaNueva\n",
    "\n",
    "#Formulario para actualización de tareas\n",
    "def formularioActualizarTarea(tareas):   \n",
    "\n",
    "    #Solicitar al usuario el identificador\n",
    "    identificador = input(\"Ingrese identificador de la Tarea para modificar: \")\n",
    "    \n",
    "    #Revisar si se encuentra el elemento solicitado        \n",
    "    if estaElemento(identificador, tareas):\n",
    "\n",
    "        #Recolectar los nuevos datos        \n",
    "        nuevaDescripcion = str(input('Nueva descripción: '))        \n",
    "        nuevoEstado = str(input('Nuevo estado: '))        \n",
    "\n",
    "        #Capturar el tiempo validando el tipo de dato ingresado        \n",
    "        nuevoTiempo = '' #Alternativa a nulo, para conservar el tiempo anterior        \n",
    "        try:\n",
    "            nuevoTiempo = int(input('Nuevo tiempo de realización: '))\n",
    "        except:\n",
    "            print(\"Entrada inválida: Se debe ingresar un tiempo numérico.\")\n",
    "\n",
    "        #Encapsular la tarea actualizada\n",
    "        tareaActualizada = {\n",
    "                            'descripcion' : nuevaDescripcion,\n",
    "                            'estado' : nuevoEstado,\n",
    "                            'tiempo' : nuevoTiempo         \n",
    "                            }\n",
    "\n",
    "        #Retornar el identificador de la tarea con los campos actualizados\n",
    "        return identificador,tareaActualizada\n",
    "\n",
    "    else:\n",
    "\n",
    "        print(\"No ha sido encontrada la Tarea para actualización!\")\n",
    "        return False\n",
    "\n",
    "#Formulario para eliminación de tareas\n",
    "def formularioEliminarTarea(tareas):\n",
    "\n",
    "    #Solicitar al usuario el identificador\n",
    "    identificador = input(\"Ingrese identificador de la Tarea para eliminar: \")\n",
    "    \n",
    "    #Revisar si se encuentra el elemento solicitado para autorizar eliminado en el controlador    \n",
    "    if estaElemento(identificador, tareas):\n",
    "        #Retornar la bandera y el identificador para que el controlador elimine\n",
    "        return identificador    \n",
    "    else:\n",
    "        print(\"No ha sido encontrada la Tarea para eliminación!\")\n",
    "        return False\n",
    "\n",
    "#Presentación de las tareas que llegan del controlador\n",
    "def mostrarTareas(tareas):\n",
    "    for identificador, tarea in tareas.items():    \n",
    "        print(identificador,' - ',end='')\n",
    "        for nombre_atributo, atributo in tarea.items():\n",
    "            print(atributo, ', ', end='')\n",
    "        print()"
   ]
  },
  {
   "cell_type": "markdown",
   "metadata": {},
   "source": [
    "Revisar esto y hacer CRUD para esto, más anadados:\n",
    "-Pedidos de mesas en un restaurante, especificando cada puesto de la mesa.\n",
    "-oGestión estudiantes en grupos de materias.\n",
    "-oCRUD para gestión de árboles genealógicos."
   ]
  }
 ],
 "metadata": {
  "interpreter": {
   "hash": "ad2bdc8ecc057115af97d19610ffacc2b4e99fae6737bb82f5d7fb13d2f2c186"
  },
  "kernelspec": {
   "display_name": "Python 3.9.7 ('base')",
   "language": "python",
   "name": "python3"
  },
  "language_info": {
   "codemirror_mode": {
    "name": "ipython",
    "version": 3
   },
   "file_extension": ".py",
   "mimetype": "text/x-python",
   "name": "python",
   "nbconvert_exporter": "python",
   "pygments_lexer": "ipython3",
   "version": "3.9.7"
  },
  "orig_nbformat": 4
 },
 "nbformat": 4,
 "nbformat_minor": 2
}
