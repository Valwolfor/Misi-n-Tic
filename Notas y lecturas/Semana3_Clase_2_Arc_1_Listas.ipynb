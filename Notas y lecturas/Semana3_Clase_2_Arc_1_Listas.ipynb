{
 "cells": [
  {
   "cell_type": "markdown",
   "metadata": {},
   "source": [
    "# Listas\n",
    "\n",
    "Python tiene varios tipos de datos compuestos y dentro de las secuencias, un tipo muy importante de secuencia son las listas.\n",
    "\n",
    "Entre las secuencias, el más versátil, es la lista. \n",
    "Para definir una, usted debe escribir es entre corchetes cuadrados, separando sus elementos con comas cada uno.\n",
    "\n",
    "La lista en Python son variables que almacenan arrays, internamente cada posición puede ser un tipo de datos distinto.\n",
    "\n",
    "Las listas en Python son:\n",
    "\n",
    "heterogéneas: pueden estar conformadas por elementos de distintos tipo, incluidos otras listas.\n",
    "mutables: sus elementos pueden modificarse.\n",
    "Una lista en Python es una estructura de datos formada por una secuencia ordenada de objetos.\n",
    "\n",
    "Los elementos de una lista pueden accederse mediante su índice, siendo 0 el índice del primer elemento."
   ]
  },
  {
   "cell_type": "code",
   "execution_count": null,
   "metadata": {},
   "outputs": [],
   "source": [
    "lista = [1, 2.5, 'DevCode', [5,6] ,4]\n",
    "\n",
    "lista = [1, 2.5, 'DevCode', [5,6] ,4]\n",
    "\n",
    "print(lista[0]) # 1\n",
    "print(lista[1]) # 2.5\n",
    "print(lista[2]) # DevCode\n",
    "print(lista[3]) # [5,6]\n",
    "print(lista[3][0]) # 5\n",
    "print(lista[3][1]) # 6\n",
    "print('Hicimos este cambio ->',lista[1:4]) # [2.5, 'DevCode', [5, 6]]\n",
    "print(lista[1:6]) # [2.5, 'DevCode', [5, 6], 4]\n",
    "print(lista[1:6:2]) # [2.5, [5, 6]]"
   ]
  },
  {
   "cell_type": "markdown",
   "metadata": {},
   "source": [
    "Una lista que no contiene ningún elemento se denomina lista vacía:"
   ]
  },
  {
   "cell_type": "code",
   "execution_count": null,
   "metadata": {},
   "outputs": [],
   "source": [
    "lista = [ ]\n",
    "print(lista)"
   ]
  },
  {
   "cell_type": "markdown",
   "metadata": {},
   "source": [
    "Al definir una lista se puede hacer referencia a otras variables."
   ]
  },
  {
   "cell_type": "markdown",
   "metadata": {},
   "source": [
    "Como siempre, hay que tener cuidado al modificar una variable que se ha utilizado para definir otras variables, porque esto puede afectar al resto de variables:\n",
    "\n",
    "- Si se trata objetos inmutables, el resto de variables no resultan afectadas, como muestra el siguiente ejemplo:"
   ]
  },
  {
   "cell_type": "code",
   "execution_count": null,
   "metadata": {},
   "outputs": [],
   "source": [
    "nombre = \"Pepe\"\n",
    "edad = 25\n",
    "listas = [nombre, edad]\n",
    "print(listas)"
   ]
  },
  {
   "cell_type": "code",
   "execution_count": null,
   "metadata": {},
   "outputs": [],
   "source": [
    "nombre = \"Juan\" # Queda la memoria cargada\n",
    "print(listas)"
   ]
  },
  {
   "cell_type": "markdown",
   "metadata": {},
   "source": [
    "Pero si se trata de objetos mutables y al modificar la variable se modifica el objeto, el resto de variables sí resultan afectadas, como muestra el siguiente ejemplo:"
   ]
  },
  {
   "cell_type": "code",
   "execution_count": 1,
   "metadata": {},
   "outputs": [
    {
     "name": "stdout",
     "output_type": "stream",
     "text": [
      "[['Ana', 'Bernardo'], [22, 21]]\n"
     ]
    }
   ],
   "source": [
    "nombres = [\"Ana\", \"Bernardo\"]\n",
    "edades = [22, 21]\n",
    "lista = [nombres, edades]\n",
    "print(lista)"
   ]
  },
  {
   "cell_type": "code",
   "execution_count": 2,
   "metadata": {},
   "outputs": [
    {
     "name": "stdout",
     "output_type": "stream",
     "text": [
      "[['Ana', 'Bernardo', 'Cristina'], [22, 21]]\n"
     ]
    }
   ],
   "source": [
    "nombres += [\"Cristina\"]\n",
    "print(lista)"
   ]
  },
  {
   "cell_type": "code",
   "execution_count": 1,
   "metadata": {},
   "outputs": [
    {
     "name": "stdout",
     "output_type": "stream",
     "text": [
      "['pan', 'huevos', 100, 1234]\n"
     ]
    }
   ],
   "source": [
    "factura = ['pan', 'huevos', 100, 1234]\n",
    "print(factura)"
   ]
  },
  {
   "cell_type": "code",
   "execution_count": 2,
   "metadata": {},
   "outputs": [
    {
     "name": "stdout",
     "output_type": "stream",
     "text": [
      "pan\n"
     ]
    }
   ],
   "source": [
    "print(factura[0])"
   ]
  },
  {
   "cell_type": "code",
   "execution_count": 3,
   "metadata": {},
   "outputs": [
    {
     "name": "stdout",
     "output_type": "stream",
     "text": [
      "1234\n"
     ]
    }
   ],
   "source": [
    "print(factura[3])"
   ]
  },
  {
   "cell_type": "markdown",
   "metadata": {},
   "source": [
    "La función len() devuelve la longitud de la lista (su cantidad de elementos)."
   ]
  },
  {
   "cell_type": "code",
   "execution_count": 4,
   "metadata": {},
   "outputs": [
    {
     "name": "stdout",
     "output_type": "stream",
     "text": [
      "4\n"
     ]
    }
   ],
   "source": [
    "print(len(factura))"
   ]
  },
  {
   "cell_type": "markdown",
   "metadata": {},
   "source": [
    "Los índices de una lista inicia entonces de 0 hasta el tamaño de la lista menos uno (len(factura) - 1):"
   ]
  },
  {
   "cell_type": "code",
   "execution_count": 5,
   "metadata": {},
   "outputs": [
    {
     "name": "stdout",
     "output_type": "stream",
     "text": [
      "3\n"
     ]
    }
   ],
   "source": [
    "print(len(factura) - 1)"
   ]
  },
  {
   "cell_type": "markdown",
   "metadata": {},
   "source": [
    "Pueden usarse también índices negativos, siendo -1 el índice del último elemento."
   ]
  },
  {
   "cell_type": "code",
   "execution_count": 6,
   "metadata": {},
   "outputs": [
    {
     "name": "stdout",
     "output_type": "stream",
     "text": [
      "1234\n"
     ]
    }
   ],
   "source": [
    "#factura = ['pan', 'huevos', 100, 1234]\n",
    "print(factura[-1])"
   ]
  },
  {
   "cell_type": "markdown",
   "metadata": {},
   "source": [
    "Los índices negativos van entonces de -1 (último elemento) a -len(factura) (primer elemento)."
   ]
  },
  {
   "cell_type": "code",
   "execution_count": 7,
   "metadata": {},
   "outputs": [
    {
     "name": "stdout",
     "output_type": "stream",
     "text": [
      "pan\n"
     ]
    }
   ],
   "source": [
    "print(factura[-len(factura)])"
   ]
  },
  {
   "cell_type": "markdown",
   "metadata": {},
   "source": [
    "A través de los índices, pueden cambiarse los elementos de una lista en el lugar."
   ]
  },
  {
   "cell_type": "code",
   "execution_count": 8,
   "metadata": {},
   "outputs": [
    {
     "name": "stdout",
     "output_type": "stream",
     "text": [
      "['pan', 'carne', 100, 1234]\n"
     ]
    }
   ],
   "source": [
    "#factura = ['pan', 'huevos', 100, 1234]\n",
    "factura[1] = \"carne\" #Agrega 'carne' y elimina 'huevos\n",
    "print(factura)"
   ]
  },
  {
   "cell_type": "markdown",
   "metadata": {},
   "source": [
    "De esta forma se cambia el valor inicial de un elemento de la lista lo cual hacen una la lista mutable"
   ]
  },
  {
   "cell_type": "markdown",
   "metadata": {},
   "source": [
    "# Métodos\n",
    "\n",
    "El el objeto de tipo lista integra una serie de métodos integrados a continuación:"
   ]
  },
  {
   "cell_type": "markdown",
   "metadata": {},
   "source": [
    "# append()\n",
    "\n",
    "Este método agrega un elemento al final de una lista."
   ]
  },
  {
   "cell_type": "code",
   "execution_count": 6,
   "metadata": {},
   "outputs": [
    {
     "name": "stdout",
     "output_type": "stream",
     "text": [
      "[2.5, 3.6, 4, 5]\n"
     ]
    }
   ],
   "source": [
    "versiones_plone = [2.5, 3.6, 4, 5]\n",
    "print(versiones_plone)"
   ]
  },
  {
   "cell_type": "code",
   "execution_count": 7,
   "metadata": {},
   "outputs": [
    {
     "name": "stdout",
     "output_type": "stream",
     "text": [
      "[2.5, 3.6, 4, 5, 6]\n"
     ]
    }
   ],
   "source": [
    "versiones_plone.append(6)\n",
    "print(versiones_plone)"
   ]
  },
  {
   "cell_type": "markdown",
   "metadata": {},
   "source": [
    "# count()\n",
    "\n",
    "Este método recibe un elemento como argumento, y cuenta la cantidad de veces que aparece en la lista."
   ]
  },
  {
   "cell_type": "code",
   "execution_count": 8,
   "metadata": {},
   "outputs": [
    {
     "name": "stdout",
     "output_type": "stream",
     "text": [
      "0\n"
     ]
    }
   ],
   "source": [
    "versiones_plone = [2.1, 2.5, 3.6, 4, 5, 6]\n",
    "print(versiones_plone.count(2))"
   ]
  },
  {
   "cell_type": "code",
   "execution_count": 9,
   "metadata": {},
   "outputs": [
    {
     "name": "stdout",
     "output_type": "stream",
     "text": [
      "6 -> 1\n"
     ]
    }
   ],
   "source": [
    "print(\"6 ->\", versiones_plone.count(6))"
   ]
  },
  {
   "cell_type": "code",
   "execution_count": 10,
   "metadata": {},
   "outputs": [
    {
     "name": "stdout",
     "output_type": "stream",
     "text": [
      "5 -> 1\n"
     ]
    }
   ],
   "source": [
    "print(\"5 ->\", versiones_plone.count(5))"
   ]
  },
  {
   "cell_type": "code",
   "execution_count": 11,
   "metadata": {},
   "outputs": [
    {
     "name": "stdout",
     "output_type": "stream",
     "text": [
      "2.5 -> 1\n"
     ]
    }
   ],
   "source": [
    "print( \"2.5 ->\", versiones_plone.count(2.5))"
   ]
  },
  {
   "cell_type": "markdown",
   "metadata": {},
   "source": [
    "# extend()\n",
    "\n",
    "Este método extiende una lista agregando un iterable al final."
   ]
  },
  {
   "cell_type": "code",
   "execution_count": 12,
   "metadata": {},
   "outputs": [
    {
     "name": "stdout",
     "output_type": "stream",
     "text": [
      "[2.1, 2.5, 3.6]\n"
     ]
    }
   ],
   "source": [
    "versiones_plone = [2.1, 2.5, 3.6]\n",
    "print(versiones_plone)"
   ]
  },
  {
   "cell_type": "code",
   "execution_count": 13,
   "metadata": {},
   "outputs": [
    {
     "name": "stdout",
     "output_type": "stream",
     "text": [
      "[2.1, 2.5, 3.6, 4]\n"
     ]
    }
   ],
   "source": [
    "versiones_plone.extend([4]) #Inserta un 4 al final\n",
    "print(versiones_plone)"
   ]
  },
  {
   "cell_type": "code",
   "execution_count": 14,
   "metadata": {},
   "outputs": [
    {
     "name": "stdout",
     "output_type": "stream",
     "text": [
      "[2.1, 2.5, 3.6, 4, 5, 6, 7]\n"
     ]
    }
   ],
   "source": [
    "versiones_plone.extend(range(5,8)) #Inserta valores de 5 a 7\n",
    "print(versiones_plone)"
   ]
  },
  {
   "cell_type": "markdown",
   "metadata": {},
   "source": [
    "# index()\n",
    "\n",
    "Este método recibe un elemento como argumento, y devuelve el índice de su primera aparición en la lista."
   ]
  },
  {
   "cell_type": "code",
   "execution_count": 15,
   "metadata": {},
   "outputs": [
    {
     "name": "stdout",
     "output_type": "stream",
     "text": [
      "3\n"
     ]
    }
   ],
   "source": [
    "versiones_plone = [2.1, 2.5, 3.6, 4, 5, 6, 4]\n",
    "print(versiones_plone.index(4))"
   ]
  },
  {
   "cell_type": "markdown",
   "metadata": {},
   "source": [
    "El método admite como argumento adicional un índice inicial a partir de donde comenzar la búsqueda, opcionalmente también el índice final."
   ]
  },
  {
   "cell_type": "code",
   "execution_count": 16,
   "metadata": {},
   "outputs": [
    {
     "name": "stdout",
     "output_type": "stream",
     "text": [
      "3.6\n"
     ]
    }
   ],
   "source": [
    "versiones_plone = [2.1, 2.5, 3.6, 4, 5, 6, 4]\n",
    "print(versiones_plone[2])"
   ]
  },
  {
   "cell_type": "code",
   "execution_count": 17,
   "metadata": {},
   "outputs": [
    {
     "name": "stdout",
     "output_type": "stream",
     "text": [
      "3\n"
     ]
    }
   ],
   "source": [
    "#versiones_plone = [2.1, 2.5, 3.6, 4, 5, 6, 4]\n",
    "print(versiones_plone.index(4,2)) #Consigue un 4 en la posición 3"
   ]
  },
  {
   "cell_type": "code",
   "execution_count": 18,
   "metadata": {},
   "outputs": [
    {
     "name": "stdout",
     "output_type": "stream",
     "text": [
      "4\n"
     ]
    }
   ],
   "source": [
    "print(versiones_plone[3])"
   ]
  },
  {
   "cell_type": "code",
   "execution_count": 19,
   "metadata": {},
   "outputs": [
    {
     "name": "stdout",
     "output_type": "stream",
     "text": [
      "6\n"
     ]
    }
   ],
   "source": [
    "print(versiones_plone.index(4, 5)) #Consigue un 4 en la posición 3"
   ]
  },
  {
   "cell_type": "code",
   "execution_count": 20,
   "metadata": {},
   "outputs": [
    {
     "name": "stdout",
     "output_type": "stream",
     "text": [
      "4\n"
     ]
    }
   ],
   "source": [
    "print(versiones_plone[6]) #Devuelve el 4 ubicado en la posición 6"
   ]
  },
  {
   "cell_type": "markdown",
   "metadata": {},
   "source": [
    "El método devuelve un excepción ValueError si el elemento no se encuentra en la lista, o en el entorno definido."
   ]
  },
  {
   "cell_type": "code",
   "execution_count": 22,
   "metadata": {},
   "outputs": [],
   "source": [
    "versiones_plone = [2.1, 2.5, 3.6, 4, 5, 6, 4]"
   ]
  },
  {
   "cell_type": "code",
   "execution_count": 23,
   "metadata": {},
   "outputs": [
    {
     "ename": "ValueError",
     "evalue": "9 is not in list",
     "output_type": "error",
     "traceback": [
      "\u001b[1;31m---------------------------------------------------------------------------\u001b[0m",
      "\u001b[1;31mValueError\u001b[0m                                Traceback (most recent call last)",
      "\u001b[1;32mc:\\Users\\BMO\\Downloads\\Semana3_Clase_2_Arc_1_Listas.ipynb Cell 49'\u001b[0m in \u001b[0;36m<cell line: 1>\u001b[1;34m()\u001b[0m\n\u001b[1;32m----> <a href='vscode-notebook-cell:/c%3A/Users/BMO/Downloads/Semana3_Clase_2_Arc_1_Listas.ipynb#ch0000048?line=0'>1</a>\u001b[0m \u001b[39mprint\u001b[39m(versiones_plone\u001b[39m.\u001b[39;49mindex(\u001b[39m9\u001b[39;49m))\n",
      "\u001b[1;31mValueError\u001b[0m: 9 is not in list"
     ]
    }
   ],
   "source": [
    "print(versiones_plone.index(9))"
   ]
  },
  {
   "cell_type": "markdown",
   "metadata": {},
   "source": [
    "# insert()\n",
    "\n",
    "Este método inserta el elemento x en la lista, en el índice i."
   ]
  },
  {
   "cell_type": "code",
   "execution_count": 24,
   "metadata": {},
   "outputs": [
    {
     "name": "stdout",
     "output_type": "stream",
     "text": [
      "[2.1, 2.5, 3.6, 4, 5, 6]\n"
     ]
    }
   ],
   "source": [
    "versiones_plone = [2.1, 2.5, 3.6, 4, 5, 6]\n",
    "print(versiones_plone)"
   ]
  },
  {
   "cell_type": "code",
   "execution_count": 25,
   "metadata": {},
   "outputs": [
    {
     "name": "stdout",
     "output_type": "stream",
     "text": [
      "[2.1, 2.5, 3.7, 3.6, 4, 5, 6]\n"
     ]
    }
   ],
   "source": [
    "versiones_plone.insert(2, 3.7)\n",
    "print(versiones_plone)"
   ]
  },
  {
   "cell_type": "markdown",
   "metadata": {},
   "source": [
    "# pop()\n",
    "\n",
    "Este método devuelve el último elemento de la lista, y lo borra de la misma."
   ]
  },
  {
   "cell_type": "code",
   "execution_count": 26,
   "metadata": {},
   "outputs": [
    {
     "name": "stdout",
     "output_type": "stream",
     "text": [
      "6\n"
     ]
    }
   ],
   "source": [
    "versiones_plone = [2.1, 2.5, 3.6, 4, 5, 6]\n",
    "\n",
    "print(versiones_plone.pop()) #Imprime el 6 y lo borra"
   ]
  },
  {
   "cell_type": "code",
   "execution_count": 27,
   "metadata": {},
   "outputs": [
    {
     "name": "stdout",
     "output_type": "stream",
     "text": [
      "[2.1, 2.5, 3.6, 4, 5]\n"
     ]
    }
   ],
   "source": [
    "print(versiones_plone) "
   ]
  },
  {
   "cell_type": "markdown",
   "metadata": {},
   "source": [
    "Opcionalmente puede recibir un argumento numérico, que funciona como índice del elemento (por defecto, -1)"
   ]
  },
  {
   "cell_type": "code",
   "execution_count": 28,
   "metadata": {},
   "outputs": [],
   "source": [
    "versiones_plone = [2.1, 2.5, 3.6, 4, 5, 6]"
   ]
  },
  {
   "cell_type": "code",
   "execution_count": 29,
   "metadata": {},
   "outputs": [
    {
     "name": "stdout",
     "output_type": "stream",
     "text": [
      "3.6\n"
     ]
    }
   ],
   "source": [
    "print(versiones_plone.pop(2)) #Imprime el 3.6 y lo borra"
   ]
  },
  {
   "cell_type": "code",
   "execution_count": 30,
   "metadata": {},
   "outputs": [
    {
     "name": "stdout",
     "output_type": "stream",
     "text": [
      "[2.1, 2.5, 4, 5, 6]\n"
     ]
    }
   ],
   "source": [
    "print(versiones_plone)"
   ]
  },
  {
   "cell_type": "markdown",
   "metadata": {},
   "source": [
    "# remove()\n",
    "\n",
    "Este método recibe como argumento un elemento, y borra su primera aparición en la lista."
   ]
  },
  {
   "cell_type": "code",
   "execution_count": 31,
   "metadata": {},
   "outputs": [
    {
     "name": "stdout",
     "output_type": "stream",
     "text": [
      "[2.1, 2.5, 3.6, 4, 5, 6]\n"
     ]
    }
   ],
   "source": [
    "versiones_plone = [2.1, 2.5, 3.6, 4, 5, 6]\n",
    "print(versiones_plone)"
   ]
  },
  {
   "cell_type": "code",
   "execution_count": 32,
   "metadata": {},
   "outputs": [
    {
     "name": "stdout",
     "output_type": "stream",
     "text": [
      "[2.1, 3.6, 4, 5, 6]\n"
     ]
    }
   ],
   "source": [
    "versiones_plone.remove(2.5)\n",
    "print(versiones_plone)"
   ]
  },
  {
   "cell_type": "markdown",
   "metadata": {},
   "source": [
    "El método devuelve un excepción ValueError si el elemento no se encuentra en la lista."
   ]
  },
  {
   "cell_type": "code",
   "execution_count": 33,
   "metadata": {},
   "outputs": [
    {
     "name": "stdout",
     "output_type": "stream",
     "text": [
      "[2.1, 2.5, 3.6, 4, 5, 6]\n"
     ]
    }
   ],
   "source": [
    "versiones_plone = [2.1, 2.5, 3.6, 4, 5, 6]\n",
    "print(versiones_plone)"
   ]
  },
  {
   "cell_type": "code",
   "execution_count": 34,
   "metadata": {},
   "outputs": [
    {
     "ename": "ValueError",
     "evalue": "list.remove(x): x not in list",
     "output_type": "error",
     "traceback": [
      "\u001b[1;31m---------------------------------------------------------------------------\u001b[0m",
      "\u001b[1;31mValueError\u001b[0m                                Traceback (most recent call last)",
      "\u001b[1;32mc:\\Users\\BMO\\Downloads\\Semana3_Clase_2_Arc_1_Listas.ipynb Cell 65'\u001b[0m in \u001b[0;36m<cell line: 1>\u001b[1;34m()\u001b[0m\n\u001b[1;32m----> <a href='vscode-notebook-cell:/c%3A/Users/BMO/Downloads/Semana3_Clase_2_Arc_1_Listas.ipynb#ch0000064?line=0'>1</a>\u001b[0m versiones_plone\u001b[39m.\u001b[39;49mremove(\u001b[39m7\u001b[39;49m)\n",
      "\u001b[1;31mValueError\u001b[0m: list.remove(x): x not in list"
     ]
    }
   ],
   "source": [
    "versiones_plone.remove(7)"
   ]
  },
  {
   "cell_type": "markdown",
   "metadata": {},
   "source": [
    "# reverse()\n",
    "\n",
    "Este método invierte el orden de los elementos de una lista."
   ]
  },
  {
   "cell_type": "code",
   "execution_count": 35,
   "metadata": {},
   "outputs": [
    {
     "name": "stdout",
     "output_type": "stream",
     "text": [
      "[2.1, 2.5, 3.6, 4, 5, 6]\n"
     ]
    }
   ],
   "source": [
    "versiones_plone = [2.1, 2.5, 3.6, 4, 5, 6]\n",
    "print(versiones_plone)"
   ]
  },
  {
   "cell_type": "code",
   "execution_count": 36,
   "metadata": {},
   "outputs": [
    {
     "name": "stdout",
     "output_type": "stream",
     "text": [
      "[6, 5, 4, 3.6, 2.5, 2.1]\n"
     ]
    }
   ],
   "source": [
    "versiones_plone.reverse()\n",
    "print(versiones_plone)"
   ]
  },
  {
   "cell_type": "markdown",
   "metadata": {},
   "source": [
    "# sort()\n",
    "\n",
    "Este método ordena los elementos de una lista."
   ]
  },
  {
   "cell_type": "code",
   "execution_count": 37,
   "metadata": {},
   "outputs": [
    {
     "name": "stdout",
     "output_type": "stream",
     "text": [
      "[4, 2.5, 5, 3.6, 2.1, 6]\n"
     ]
    }
   ],
   "source": [
    "versiones_plone = [4, 2.5, 5, 3.6, 2.1, 6]\n",
    "print(versiones_plone)"
   ]
  },
  {
   "cell_type": "code",
   "execution_count": 38,
   "metadata": {},
   "outputs": [
    {
     "name": "stdout",
     "output_type": "stream",
     "text": [
      "[2.1, 2.5, 3.6, 4, 5, 6]\n"
     ]
    }
   ],
   "source": [
    "versiones_plone.sort()\n",
    "print(versiones_plone)"
   ]
  },
  {
   "cell_type": "markdown",
   "metadata": {},
   "source": [
    "El método sort() admite la opción reverse, por defecto, con valor False. De tener valor True, el ordenamiento se hace en sentido inverso."
   ]
  },
  {
   "cell_type": "code",
   "execution_count": 39,
   "metadata": {},
   "outputs": [
    {
     "name": "stdout",
     "output_type": "stream",
     "text": [
      "[6, 5, 4, 3.6, 2.5, 2.1]\n"
     ]
    }
   ],
   "source": [
    "versiones_plone.sort(reverse=True)\n",
    "print(versiones_plone)"
   ]
  },
  {
   "cell_type": "markdown",
   "metadata": {},
   "source": [
    "# Convertir a listas\n",
    "\n",
    "Para convertir a tipos listas debe usar la función list() la cual esta integrada en el interprete Python."
   ]
  },
  {
   "cell_type": "markdown",
   "metadata": {},
   "source": [
    "# Ejemplos\n",
    "\n",
    "A continuación, se presentan algunos ejemplos de su uso:\n",
    "\n",
    "Ejemplo de establecer una colección ordenada/arreglos o vectores"
   ]
  },
  {
   "cell_type": "code",
   "execution_count": 40,
   "metadata": {},
   "outputs": [
    {
     "name": "stdout",
     "output_type": "stream",
     "text": [
      "[2, 'CMS', True, ['Plone', 10]] <class 'list'>\n"
     ]
    }
   ],
   "source": [
    "lista = [2, \"CMS\", True, [\"Plone\", 10]]\n",
    "print(lista, type(lista))"
   ]
  },
  {
   "cell_type": "markdown",
   "metadata": {},
   "source": [
    "Ejemplo de acceder a un elemento especifico de una lista"
   ]
  },
  {
   "cell_type": "code",
   "execution_count": 41,
   "metadata": {},
   "outputs": [
    {
     "name": "stdout",
     "output_type": "stream",
     "text": [
      "CMS\n"
     ]
    }
   ],
   "source": [
    "#lista = [2, \"CMS\", True, [\"Plone\", 10]]\n",
    "l2 = lista[1]\n",
    "print(l2)"
   ]
  },
  {
   "cell_type": "markdown",
   "metadata": {},
   "source": [
    "Ejemplo de acceder a un elemento a una lista anidada"
   ]
  },
  {
   "cell_type": "code",
   "execution_count": 42,
   "metadata": {},
   "outputs": [
    {
     "name": "stdout",
     "output_type": "stream",
     "text": [
      "Plone\n"
     ]
    }
   ],
   "source": [
    "#lista = [2, \"CMS\", True, [\"Plone\", 10]]\n",
    "l3 = lista[3][0]\n",
    "print(l3)"
   ]
  },
  {
   "cell_type": "markdown",
   "metadata": {},
   "source": [
    "Ejemplo de establecer nuevo valor de un elemento de lista"
   ]
  },
  {
   "cell_type": "code",
   "execution_count": 2,
   "metadata": {},
   "outputs": [
    {
     "name": "stdout",
     "output_type": "stream",
     "text": [
      "[2, 4, True, ['Plone', 10]]\n"
     ]
    }
   ],
   "source": [
    "lista = [2, \"CMS\", True, [\"Plone\", 10]]\n",
    "lista[1] = 4\n",
    "print(lista)"
   ]
  },
  {
   "cell_type": "code",
   "execution_count": 44,
   "metadata": {},
   "outputs": [
    {
     "name": "stdout",
     "output_type": "stream",
     "text": [
      "[2, 'CMS', True, ['Plone', 10]]\n"
     ]
    }
   ],
   "source": [
    "lista[1] = \"CMS\"\n",
    "print(lista)"
   ]
  },
  {
   "cell_type": "markdown",
   "metadata": {},
   "source": [
    "Ejemplo de obtener un rango de elemento especifico"
   ]
  },
  {
   "cell_type": "code",
   "execution_count": 46,
   "metadata": {},
   "outputs": [
    {
     "name": "stdout",
     "output_type": "stream",
     "text": [
      "[2, 'CMS']\n"
     ]
    }
   ],
   "source": [
    "#lista = [2, \"CMS\", True, [\"Plone\", 10]]\n",
    "l3 = lista[0:2] #Imprime [2, 'CMS', True]\n",
    "print(l3)"
   ]
  },
  {
   "cell_type": "markdown",
   "metadata": {},
   "source": [
    "Ejemplos de obtener un rango con saltos de elementos específicos"
   ]
  },
  {
   "cell_type": "code",
   "execution_count": 3,
   "metadata": {},
   "outputs": [
    {
     "name": "stdout",
     "output_type": "stream",
     "text": [
      "[2, True]\n"
     ]
    }
   ],
   "source": [
    "#lista = [2, \"CMS\", True, [\"Plone\", 10]]\n",
    "l4 = lista[0:3:2] #salta \"CMS\"\n",
    "print(l4)"
   ]
  },
  {
   "cell_type": "code",
   "execution_count": 7,
   "metadata": {},
   "outputs": [
    {
     "name": "stdout",
     "output_type": "stream",
     "text": [
      "[4]\n"
     ]
    }
   ],
   "source": [
    "#lista = [2, \"CMS\", True, [\"Plone\", 10]]\n",
    "\n",
    "l5 = lista[1:3:2] #Imprime ['CMS', ['Plone', 10]]\n",
    "print(l5)"
   ]
  },
  {
   "cell_type": "markdown",
   "metadata": {},
   "source": [
    "# Ejemplo de iterar sobre cualquier secuencia\n",
    "\n",
    "Usted puede iterar sobre cualquier secuencia (cadenas de caracteres, lista, claves en un diccionario, lineas en un archivo, ...):"
   ]
  },
  {
   "cell_type": "markdown",
   "metadata": {},
   "source": [
    "Ejemplo de iterar sobre una cadenas de caracteres"
   ]
  },
  {
   "cell_type": "code",
   "execution_count": 49,
   "metadata": {},
   "outputs": [
    {
     "name": "stdout",
     "output_type": "stream",
     "text": [
      "e\n",
      "o\n",
      "a\n"
     ]
    }
   ],
   "source": [
    "vocales = 'aeiou'\n",
    "\n",
    "for letra in 'hermosa':\n",
    "     if letra in vocales:\n",
    "            print(letra)"
   ]
  },
  {
   "cell_type": "markdown",
   "metadata": {},
   "source": [
    "Ejemplo de iterar sobre una lista\n",
    "\n",
    "Para separar una cadena en frases, los valores pueden separarse con la función integrada split()."
   ]
  },
  {
   "cell_type": "code",
   "execution_count": 8,
   "metadata": {},
   "outputs": [
    {
     "name": "stdout",
     "output_type": "stream",
     "text": [
      "['Hola,', 'como', 'estas', 'tu?']\n"
     ]
    }
   ],
   "source": [
    "mensaje = \"Hola, como estas tu?\"\n",
    "print(mensaje.split()) # retorna una lista con cada palabra"
   ]
  },
  {
   "cell_type": "code",
   "execution_count": 9,
   "metadata": {},
   "outputs": [
    {
     "name": "stdout",
     "output_type": "stream",
     "text": [
      "Hola,\n",
      "como\n",
      "estas\n",
      "tu?\n"
     ]
    }
   ],
   "source": [
    "#mensaje = \"Hola, como estas tu?\"\n",
    "for palabra in mensaje.split():\n",
    "    print(palabra)"
   ]
  },
  {
   "cell_type": "markdown",
   "metadata": {},
   "source": [
    "# Ejemplo de iterar sobre dos o más secuencias\n",
    "\n",
    "Para iterar sobre dos o más secuencias al mismo tiempo, los valores pueden emparejarse con la función integrada zip()."
   ]
  },
  {
   "cell_type": "code",
   "execution_count": 18,
   "metadata": {},
   "outputs": [
    {
     "name": "stdout",
     "output_type": "stream",
     "text": [
      "[('nombre', 'Leonardo', 'feo', 3), ('objetivo', 'aprender Python y Plone', 2, 4), ('sistema operativo', 'Linux', 6, 5)]\n",
      "¿Cual es tu nombre?, la respuesta es: Leonardo feo 3.\n",
      "¿Cual es tu objetivo?, la respuesta es: aprender Python y Plone 2 4.\n",
      "¿Cual es tu sistema operativo?, la respuesta es: Linux 6 5.\n"
     ]
    }
   ],
   "source": [
    "preguntas = ['nombre', 'objetivo', 'sistema operativo']\n",
    "respuestas = ['Leonardo', 'aprender Python y Plone', 'Linux']\n",
    "otro = [\"feo\", 2, 6]\n",
    "otro_mas = [3, 4, 5]\n",
    "print(list(zip(preguntas, respuestas, otro, otro_mas)))\n",
    "for pregunta, respuesta, otro, otro_mas in zip(preguntas, respuestas, otro, otro_mas):\n",
    "    print('¿Cual es tu {0}?, la respuesta es: {1} {2} {3}.'.format(\n",
    "        pregunta, respuesta, otro, otro_mas))\n"
   ]
  },
  {
   "cell_type": "markdown",
   "metadata": {},
   "source": [
    "# Ejemplo ayuda con listas"
   ]
  },
  {
   "cell_type": "code",
   "execution_count": 61,
   "metadata": {},
   "outputs": [
    {
     "name": "stdout",
     "output_type": "stream",
     "text": [
      "Help on class list in module builtins:\n",
      "\n",
      "class list(object)\n",
      " |  list(iterable=(), /)\n",
      " |  \n",
      " |  Built-in mutable sequence.\n",
      " |  \n",
      " |  If no argument is given, the constructor creates a new empty list.\n",
      " |  The argument must be an iterable if specified.\n",
      " |  \n",
      " |  Methods defined here:\n",
      " |  \n",
      " |  __add__(self, value, /)\n",
      " |      Return self+value.\n",
      " |  \n",
      " |  __contains__(self, key, /)\n",
      " |      Return key in self.\n",
      " |  \n",
      " |  __delitem__(self, key, /)\n",
      " |      Delete self[key].\n",
      " |  \n",
      " |  __eq__(self, value, /)\n",
      " |      Return self==value.\n",
      " |  \n",
      " |  __ge__(self, value, /)\n",
      " |      Return self>=value.\n",
      " |  \n",
      " |  __getattribute__(self, name, /)\n",
      " |      Return getattr(self, name).\n",
      " |  \n",
      " |  __getitem__(...)\n",
      " |      x.__getitem__(y) <==> x[y]\n",
      " |  \n",
      " |  __gt__(self, value, /)\n",
      " |      Return self>value.\n",
      " |  \n",
      " |  __iadd__(self, value, /)\n",
      " |      Implement self+=value.\n",
      " |  \n",
      " |  __imul__(self, value, /)\n",
      " |      Implement self*=value.\n",
      " |  \n",
      " |  __init__(self, /, *args, **kwargs)\n",
      " |      Initialize self.  See help(type(self)) for accurate signature.\n",
      " |  \n",
      " |  __iter__(self, /)\n",
      " |      Implement iter(self).\n",
      " |  \n",
      " |  __le__(self, value, /)\n",
      " |      Return self<=value.\n",
      " |  \n",
      " |  __len__(self, /)\n",
      " |      Return len(self).\n",
      " |  \n",
      " |  __lt__(self, value, /)\n",
      " |      Return self<value.\n",
      " |  \n",
      " |  __mul__(self, value, /)\n",
      " |      Return self*value.\n",
      " |  \n",
      " |  __ne__(self, value, /)\n",
      " |      Return self!=value.\n",
      " |  \n",
      " |  __repr__(self, /)\n",
      " |      Return repr(self).\n",
      " |  \n",
      " |  __reversed__(self, /)\n",
      " |      Return a reverse iterator over the list.\n",
      " |  \n",
      " |  __rmul__(self, value, /)\n",
      " |      Return value*self.\n",
      " |  \n",
      " |  __setitem__(self, key, value, /)\n",
      " |      Set self[key] to value.\n",
      " |  \n",
      " |  __sizeof__(self, /)\n",
      " |      Return the size of the list in memory, in bytes.\n",
      " |  \n",
      " |  append(self, object, /)\n",
      " |      Append object to the end of the list.\n",
      " |  \n",
      " |  clear(self, /)\n",
      " |      Remove all items from list.\n",
      " |  \n",
      " |  copy(self, /)\n",
      " |      Return a shallow copy of the list.\n",
      " |  \n",
      " |  count(self, value, /)\n",
      " |      Return number of occurrences of value.\n",
      " |  \n",
      " |  extend(self, iterable, /)\n",
      " |      Extend list by appending elements from the iterable.\n",
      " |  \n",
      " |  index(self, value, start=0, stop=9223372036854775807, /)\n",
      " |      Return first index of value.\n",
      " |      \n",
      " |      Raises ValueError if the value is not present.\n",
      " |  \n",
      " |  insert(self, index, object, /)\n",
      " |      Insert object before index.\n",
      " |  \n",
      " |  pop(self, index=-1, /)\n",
      " |      Remove and return item at index (default last).\n",
      " |      \n",
      " |      Raises IndexError if list is empty or index is out of range.\n",
      " |  \n",
      " |  remove(self, value, /)\n",
      " |      Remove first occurrence of value.\n",
      " |      \n",
      " |      Raises ValueError if the value is not present.\n",
      " |  \n",
      " |  reverse(self, /)\n",
      " |      Reverse *IN PLACE*.\n",
      " |  \n",
      " |  sort(self, /, *, key=None, reverse=False)\n",
      " |      Sort the list in ascending order and return None.\n",
      " |      \n",
      " |      The sort is in-place (i.e. the list itself is modified) and stable (i.e. the\n",
      " |      order of two equal elements is maintained).\n",
      " |      \n",
      " |      If a key function is given, apply it once to each list item and sort them,\n",
      " |      ascending or descending, according to their function values.\n",
      " |      \n",
      " |      The reverse flag can be set to sort in descending order.\n",
      " |  \n",
      " |  ----------------------------------------------------------------------\n",
      " |  Class methods defined here:\n",
      " |  \n",
      " |  __class_getitem__(...) from builtins.type\n",
      " |      See PEP 585\n",
      " |  \n",
      " |  ----------------------------------------------------------------------\n",
      " |  Static methods defined here:\n",
      " |  \n",
      " |  __new__(*args, **kwargs) from builtins.type\n",
      " |      Create and return a new object.  See help(type) for accurate signature.\n",
      " |  \n",
      " |  ----------------------------------------------------------------------\n",
      " |  Data and other attributes defined here:\n",
      " |  \n",
      " |  __hash__ = None\n",
      "\n",
      "None\n"
     ]
    }
   ],
   "source": [
    "print(help(list))"
   ]
  }
 ],
 "metadata": {
  "interpreter": {
   "hash": "28171d6a6f7b7dbeb44aa4e7d7f0f6bfdee86156c8bd31f322ab7fdc08506647"
  },
  "kernelspec": {
   "display_name": "Python 3.10.4 64-bit",
   "language": "python",
   "name": "python3"
  },
  "language_info": {
   "codemirror_mode": {
    "name": "ipython",
    "version": 3
   },
   "file_extension": ".py",
   "mimetype": "text/x-python",
   "name": "python",
   "nbconvert_exporter": "python",
   "pygments_lexer": "ipython3",
   "version": "3.10.4"
  }
 },
 "nbformat": 4,
 "nbformat_minor": 4
}
