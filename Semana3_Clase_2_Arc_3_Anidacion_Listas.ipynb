{
 "cells": [
  {
   "cell_type": "markdown",
   "metadata": {},
   "source": [
    "# Listas Paralelas\n",
    "Podemos decir que dos listas son paralelas cuando hay una relación entre las componentes de igual subíndice (misma posición) de una lista y otra."
   ]
  },
  {
   "cell_type": "markdown",
   "metadata": {},
   "source": [
    "Ejemplo\n",
    "\n",
    "Desarrollar un programa que permita cargar 5 nombres de personas y sus edades respectivas.\n",
    "\n",
    "Luego de realizar la carga por teclado de todos los datos, imprimir los nombres de las personas mayores de edad (mayores o iguales a 18 años)"
   ]
  },
  {
   "cell_type": "code",
   "execution_count": 13,
   "metadata": {},
   "outputs": [
    {
     "name": "stdout",
     "output_type": "stream",
     "text": [
      "['Jhon']\n",
      "[14]\n",
      "['Jhon', 'Luis']\n",
      "[14, 18]\n",
      "Nombre de las personas mayores de edad: \n",
      "Luis\n"
     ]
    },
    {
     "ename": "IndexError",
     "evalue": "list index out of range",
     "output_type": "error",
     "traceback": [
      "\u001b[1;31m---------------------------------------------------------------------------\u001b[0m",
      "\u001b[1;31mIndexError\u001b[0m                                Traceback (most recent call last)",
      "\u001b[1;32m~\\AppData\\Local\\Temp/ipykernel_14172/3116005531.py\u001b[0m in \u001b[0;36m<module>\u001b[1;34m\u001b[0m\n\u001b[0;32m     13\u001b[0m \u001b[1;33m\u001b[0m\u001b[0m\n\u001b[0;32m     14\u001b[0m \u001b[1;32mfor\u001b[0m \u001b[0mx\u001b[0m \u001b[1;32min\u001b[0m \u001b[0mrange\u001b[0m\u001b[1;33m(\u001b[0m\u001b[1;36m5\u001b[0m\u001b[1;33m)\u001b[0m\u001b[1;33m:\u001b[0m\u001b[1;33m\u001b[0m\u001b[1;33m\u001b[0m\u001b[0m\n\u001b[1;32m---> 15\u001b[1;33m     \u001b[1;32mif\u001b[0m \u001b[0medades\u001b[0m\u001b[1;33m[\u001b[0m\u001b[0mx\u001b[0m\u001b[1;33m]\u001b[0m \u001b[1;33m>=\u001b[0m \u001b[1;36m18\u001b[0m\u001b[1;33m:\u001b[0m\u001b[1;33m\u001b[0m\u001b[1;33m\u001b[0m\u001b[0m\n\u001b[0m\u001b[0;32m     16\u001b[0m         \u001b[0mprint\u001b[0m\u001b[1;33m(\u001b[0m\u001b[0mnombres\u001b[0m\u001b[1;33m[\u001b[0m\u001b[0mx\u001b[0m\u001b[1;33m]\u001b[0m\u001b[1;33m)\u001b[0m\u001b[1;33m\u001b[0m\u001b[1;33m\u001b[0m\u001b[0m\n\u001b[0;32m     17\u001b[0m \u001b[0mdicionario\u001b[0m \u001b[1;33m=\u001b[0m \u001b[0mzip\u001b[0m\u001b[1;33m(\u001b[0m\u001b[0mnombres\u001b[0m\u001b[1;33m,\u001b[0m \u001b[0medades\u001b[0m\u001b[1;33m)\u001b[0m\u001b[1;33m\u001b[0m\u001b[1;33m\u001b[0m\u001b[0m\n",
      "\u001b[1;31mIndexError\u001b[0m: list index out of range"
     ]
    }
   ],
   "source": [
    "nombres = []\n",
    "edades = []\n",
    "\n",
    "for x in range(2):\n",
    "    nom = input('Ingrese el nombre de la persona')\n",
    "    nombres.append(nom)\n",
    "    print(nombres)\n",
    "    ed = int(input('Ingrese la edad de la persona'))\n",
    "    edades.append(ed)\n",
    "    print(edades)\n",
    "\n",
    "print('Nombre de las personas mayores de edad: ')\n",
    "\n",
    "for x in range(5):\n",
    "    if edades[x] >= 18:\n",
    "        print(nombres[x])\n"
   ]
  },
  {
   "cell_type": "markdown",
   "metadata": {},
   "source": [
    "Listas Compuestas\n",
    "\n",
    "Se han trabajado listas cuyos componentes son de tipo: Entero, Flotante, Cadena de caracteres, Mezcla de los anteriores. Pero lo que hace tan flexible a esta estructura de datos, es que podemos almacenar componentes de tipo LISTA, esto, es equivalente al concepto de matrices o arreglos de arreglos."
   ]
  },
  {
   "cell_type": "code",
   "execution_count": 3,
   "metadata": {},
   "outputs": [],
   "source": [
    "notas = [[4,5],[3,8],[54,87]]"
   ]
  },
  {
   "cell_type": "markdown",
   "metadata": {},
   "source": [
    "Ahora, Hemos definido una lista de tres elementos de tipo lista.\n",
    "\n",
    "1.- El primer elemento de la lista es otra lista de dos elementos de tipo entero.\n",
    "\n",
    "2.- De forma similar los otros dos elementos de la lista notas son listas de dos elementos de tipo entero.\n",
    "\n",
    "Para definir y crear por asignación una lista de listas tenemos:"
   ]
  },
  {
   "cell_type": "code",
   "execution_count": 4,
   "metadata": {},
   "outputs": [
    {
     "name": "stdout",
     "output_type": "stream",
     "text": [
      "[[1, 2, 3], [5, 6, 7], [8, 9, 0], [10, 11, 12]]\n",
      "[1, 2, 3]\n",
      "1\n"
     ]
    }
   ],
   "source": [
    "lista = [[1,2,3],[5,6,7],[8,9,0],[10,11,12]]\n",
    "print(lista) #imprime lista completa\n",
    "print(lista[0]) #imprime indice 0 de la lista [1,2,3]\n",
    "print(lista[0][0]) #imprime el indice 0,0 = 1"
   ]
  },
  {
   "cell_type": "code",
   "execution_count": 5,
   "metadata": {},
   "outputs": [
    {
     "name": "stdout",
     "output_type": "stream",
     "text": [
      "1\n",
      "2\n",
      "3\n"
     ]
    }
   ],
   "source": [
    "#Accediendo a todos los elementos de la primera componente de una lista compuesta por listas:\n",
    "\n",
    "lista = [[1,2,3],[5,6,7],[8,9,0],[10,11,12]]\n",
    "for x in range(len(lista[0])):\n",
    "    print(lista[0][x])"
   ]
  },
  {
   "cell_type": "markdown",
   "metadata": {},
   "source": [
    "Acceder a cada elemento de cada componente tipo lista de la lista\n",
    "principal o lista de listas o matriz de elementos:"
   ]
  },
  {
   "cell_type": "code",
   "execution_count": 6,
   "metadata": {},
   "outputs": [
    {
     "name": "stdout",
     "output_type": "stream",
     "text": [
      "1\n",
      "2\n",
      "3\n",
      "5\n",
      "6\n",
      "7\n",
      "8\n",
      "9\n",
      "0\n",
      "10\n",
      "11\n",
      "12\n"
     ]
    }
   ],
   "source": [
    "#imprimimos cada elemento entero de cada lista\n",
    "# contenido en la lista principal\n",
    "lista = [[1,2,3],[5,6,7],[8,9,0],[10,11,12]]\n",
    "for k in range(len(lista)):\n",
    "    for x in range(len(lista[k])):\n",
    "        print(lista[k][x])"
   ]
  },
  {
   "cell_type": "code",
   "execution_count": null,
   "metadata": {},
   "outputs": [],
   "source": []
  },
  {
   "cell_type": "markdown",
   "metadata": {},
   "source": [
    "Ejemplo 1: Requerimiento aplicando los conceptos anteriores.\n",
    "\n",
    "• Crear una lista por asignación.\n",
    "\n",
    "• La lista tiene que tener cuatro elementos.\n",
    "\n",
    "• Cada elemento debe ser una lista de 3 enteros.\n",
    "\n",
    "• Imprimir sus elementos accediendo de diferentes modos.\n"
   ]
  },
  {
   "cell_type": "code",
   "execution_count": 7,
   "metadata": {},
   "outputs": [
    {
     "name": "stdout",
     "output_type": "stream",
     "text": [
      "[[1, 2, 3], [5, 6, 7], [8, 9, 0], [10, 11, 12]]\n",
      "----------\n",
      "[1, 2, 3]\n",
      "----------\n",
      "1\n",
      "----------\n",
      "1\n",
      "2\n",
      "3\n",
      "----------\n",
      "1\n",
      "2\n",
      "3\n",
      "5\n",
      "6\n",
      "7\n",
      "8\n",
      "9\n",
      "0\n",
      "10\n",
      "11\n",
      "12\n",
      "----------\n"
     ]
    }
   ],
   "source": [
    "lista = [[1,2,3],[5,6,7],[8,9,0],[10,11,12]]\n",
    "#imprimimos la lista completa\n",
    "print(lista)\n",
    "print('----------')\n",
    "#imprimimos la primera componente\n",
    "print(lista[0])\n",
    "print('----------')\n",
    "#imprimimos la primera componente de la lista contenida\n",
    "# en la primera componente de la lista principal\n",
    "print(lista[0][0])\n",
    "print('----------')\n",
    "#imprimimos con un For la lista contenida en la primera componente\n",
    "for x in range(len(lista[0])):\n",
    "    print (lista[0][x])\n",
    "print('----------')\n",
    "#imprimimos cada elemento entero de cada lista contenida en la lista\n",
    "for k in range (len(lista)):\n",
    "    for x in range (len(lista[k])):\n",
    "        print (lista[k][x])\n",
    "print('----------')"
   ]
  },
  {
   "cell_type": "markdown",
   "metadata": {},
   "source": [
    "Ejemplo 2:\n",
    "\n",
    "• Crear una lista por asignación.\n",
    "\n",
    "• La lista debe tener 2 elementos.\n",
    "\n",
    "• Cada elemento debe ser una lista de 5 enteros.\n",
    "\n",
    "• Calcular y mostrar la suma de cada lista contenida en la lista principal.\n"
   ]
  },
  {
   "cell_type": "code",
   "execution_count": 8,
   "metadata": {},
   "outputs": [
    {
     "name": "stdout",
     "output_type": "stream",
     "text": [
      "25\n",
      "30\n"
     ]
    }
   ],
   "source": [
    "#Devuelve la suma de cada una de las dos sublistas contenidas en la lista \n",
    "lista = [[1,3,5,7,9], [2,4,6,8,10]]\n",
    "for k in range(len(lista)):\n",
    "    suma = 0\n",
    "    for x in range(len(lista[k])):\n",
    "        suma += lista[k][x]\n",
    "    print(suma)"
   ]
  },
  {
   "cell_type": "markdown",
   "metadata": {},
   "source": [
    "Ejemplo 3:\n",
    "\n",
    "• Crear una lista por asignación. La lista debe que tener 5 elementos.\n",
    "\n",
    "• Cada elemento debe ser una lista, la primera lista tiene que tener un elemento, la segunda dos elementos, la tercera tres elementos y así sucesivamente (componentes tipo lista de tamaño variable).\n",
    "\n",
    "• Sumar todos los valores de las listas."
   ]
  },
  {
   "cell_type": "code",
   "execution_count": 9,
   "metadata": {},
   "outputs": [
    {
     "name": "stdout",
     "output_type": "stream",
     "text": [
      "1\n",
      "4\n",
      "10\n",
      "20\n",
      "35\n"
     ]
    }
   ],
   "source": [
    "lista = [[1],[1,2],[1,2,3],[1,2,3,4],[1,2,3,4,5]]\n",
    "suma = 0\n",
    "for k in range(len(lista)):\n",
    "    for x in range(len(lista[k])):\n",
    "        suma += lista[k][x]\n",
    "    print(suma)"
   ]
  },
  {
   "cell_type": "markdown",
   "metadata": {},
   "source": [
    "Carga dinámica de listas:\n",
    "\n",
    "• En algunas situaciones debemos crear una nueva lista ingresando los datos por teclado o por operaciones del mismo programa.\n",
    "\n",
    "• Se puede requerir la anidación de los elementos dependiendo de lo que se quiera representar.\n"
   ]
  },
  {
   "cell_type": "markdown",
   "metadata": {},
   "source": [
    "Ejemplo 4:\n",
    "\n",
    "• Definir dos listas de 3 elementos.\n",
    "\n",
    "• En la primera lista cada elemento es una sublista con el nombre del padre y la madre de una familia.\n",
    "\n",
    "• La segunda lista está constituida por listas con los nombres de los hijos de cada familia. (Puede haber familias sin hijos)\n",
    "\n",
    "• Imprimir los nombres del padre, la madre y sus hijos. También imprimir solo el nombre del padre y la cantidad de hijos que tiene dicho padre.\n",
    "\n",
    " Listas posibles según el enunciado:\n"
   ]
  },
  {
   "cell_type": "code",
   "execution_count": 11,
   "metadata": {},
   "outputs": [
    {
     "ename": "KeyboardInterrupt",
     "evalue": "Interrupted by user",
     "output_type": "error",
     "traceback": [
      "\u001b[1;31m---------------------------------------------------------------------------\u001b[0m",
      "\u001b[1;31mKeyboardInterrupt\u001b[0m                         Traceback (most recent call last)",
      "\u001b[1;32m~\\AppData\\Local\\Temp/ipykernel_14172/1365257293.py\u001b[0m in \u001b[0;36m<module>\u001b[1;34m\u001b[0m\n\u001b[0;32m      5\u001b[0m \u001b[0mhijos\u001b[0m \u001b[1;33m=\u001b[0m \u001b[1;33m[\u001b[0m\u001b[1;33m]\u001b[0m\u001b[1;33m\u001b[0m\u001b[1;33m\u001b[0m\u001b[0m\n\u001b[0;32m      6\u001b[0m \u001b[1;32mfor\u001b[0m \u001b[0mk\u001b[0m \u001b[1;32min\u001b[0m \u001b[0mrange\u001b[0m\u001b[1;33m(\u001b[0m\u001b[1;36m3\u001b[0m\u001b[1;33m)\u001b[0m\u001b[1;33m:\u001b[0m\u001b[1;33m\u001b[0m\u001b[1;33m\u001b[0m\u001b[0m\n\u001b[1;32m----> 7\u001b[1;33m     \u001b[0mpa\u001b[0m \u001b[1;33m=\u001b[0m \u001b[0minput\u001b[0m\u001b[1;33m(\u001b[0m\u001b[1;34m'Ingrese el nombre del padre: '\u001b[0m\u001b[1;33m)\u001b[0m\u001b[1;33m\u001b[0m\u001b[1;33m\u001b[0m\u001b[0m\n\u001b[0m\u001b[0;32m      8\u001b[0m     \u001b[0mma\u001b[0m \u001b[1;33m=\u001b[0m \u001b[0minput\u001b[0m\u001b[1;33m(\u001b[0m\u001b[1;34m'Ingrese el nombre del madre: '\u001b[0m\u001b[1;33m)\u001b[0m\u001b[1;33m\u001b[0m\u001b[1;33m\u001b[0m\u001b[0m\n\u001b[0;32m      9\u001b[0m     \u001b[0mpadres\u001b[0m\u001b[1;33m.\u001b[0m\u001b[0mappend\u001b[0m\u001b[1;33m(\u001b[0m\u001b[1;33m[\u001b[0m\u001b[0mpa\u001b[0m\u001b[1;33m,\u001b[0m\u001b[0mma\u001b[0m\u001b[1;33m]\u001b[0m\u001b[1;33m)\u001b[0m\u001b[1;33m\u001b[0m\u001b[1;33m\u001b[0m\u001b[0m\n",
      "\u001b[1;32mc:\\ProgramData\\Anaconda3\\lib\\site-packages\\ipykernel\\kernelbase.py\u001b[0m in \u001b[0;36mraw_input\u001b[1;34m(self, prompt)\u001b[0m\n\u001b[0;32m   1004\u001b[0m                 \u001b[1;34m\"raw_input was called, but this frontend does not support input requests.\"\u001b[0m\u001b[1;33m\u001b[0m\u001b[1;33m\u001b[0m\u001b[0m\n\u001b[0;32m   1005\u001b[0m             )\n\u001b[1;32m-> 1006\u001b[1;33m         return self._input_request(\n\u001b[0m\u001b[0;32m   1007\u001b[0m             \u001b[0mstr\u001b[0m\u001b[1;33m(\u001b[0m\u001b[0mprompt\u001b[0m\u001b[1;33m)\u001b[0m\u001b[1;33m,\u001b[0m\u001b[1;33m\u001b[0m\u001b[1;33m\u001b[0m\u001b[0m\n\u001b[0;32m   1008\u001b[0m             \u001b[0mself\u001b[0m\u001b[1;33m.\u001b[0m\u001b[0m_parent_ident\u001b[0m\u001b[1;33m[\u001b[0m\u001b[1;34m\"shell\"\u001b[0m\u001b[1;33m]\u001b[0m\u001b[1;33m,\u001b[0m\u001b[1;33m\u001b[0m\u001b[1;33m\u001b[0m\u001b[0m\n",
      "\u001b[1;32mc:\\ProgramData\\Anaconda3\\lib\\site-packages\\ipykernel\\kernelbase.py\u001b[0m in \u001b[0;36m_input_request\u001b[1;34m(self, prompt, ident, parent, password)\u001b[0m\n\u001b[0;32m   1049\u001b[0m             \u001b[1;32mexcept\u001b[0m \u001b[0mKeyboardInterrupt\u001b[0m\u001b[1;33m:\u001b[0m\u001b[1;33m\u001b[0m\u001b[1;33m\u001b[0m\u001b[0m\n\u001b[0;32m   1050\u001b[0m                 \u001b[1;31m# re-raise KeyboardInterrupt, to truncate traceback\u001b[0m\u001b[1;33m\u001b[0m\u001b[1;33m\u001b[0m\u001b[0m\n\u001b[1;32m-> 1051\u001b[1;33m                 \u001b[1;32mraise\u001b[0m \u001b[0mKeyboardInterrupt\u001b[0m\u001b[1;33m(\u001b[0m\u001b[1;34m\"Interrupted by user\"\u001b[0m\u001b[1;33m)\u001b[0m \u001b[1;32mfrom\u001b[0m \u001b[1;32mNone\u001b[0m\u001b[1;33m\u001b[0m\u001b[1;33m\u001b[0m\u001b[0m\n\u001b[0m\u001b[0;32m   1052\u001b[0m             \u001b[1;32mexcept\u001b[0m \u001b[0mException\u001b[0m\u001b[1;33m:\u001b[0m\u001b[1;33m\u001b[0m\u001b[1;33m\u001b[0m\u001b[0m\n\u001b[0;32m   1053\u001b[0m                 \u001b[0mself\u001b[0m\u001b[1;33m.\u001b[0m\u001b[0mlog\u001b[0m\u001b[1;33m.\u001b[0m\u001b[0mwarning\u001b[0m\u001b[1;33m(\u001b[0m\u001b[1;34m\"Invalid Message:\"\u001b[0m\u001b[1;33m,\u001b[0m \u001b[0mexc_info\u001b[0m\u001b[1;33m=\u001b[0m\u001b[1;32mTrue\u001b[0m\u001b[1;33m)\u001b[0m\u001b[1;33m\u001b[0m\u001b[1;33m\u001b[0m\u001b[0m\n",
      "\u001b[1;31mKeyboardInterrupt\u001b[0m: Interrupted by user"
     ]
    }
   ],
   "source": [
    "#padres = [['juan','ana'],['carlos','maria'], ['pedro','laura']]\n",
    "#hijos = [['marcos','alberto','silvia'], [], ['oscar']]\n",
    "\n",
    "padres = []\n",
    "hijos = []\n",
    "for k in range(3):\n",
    "    pa = input('Ingrese el nombre del padre: ')\n",
    "    ma = input('Ingrese el nombre del madre: ')\n",
    "    padres.append([pa,ma])\n",
    "    cant = int(input('Cuantos hijos tiene esta familia: '))\n",
    "    hijos.append([])\n",
    "    for x in range(cant):\n",
    "        nom = input('Ingrese el nombre del hijo: ')\n",
    "        hijos[k].append(nom)\n",
    "\n",
    "print('Listado del padre, madre y sus hijos')\n",
    "for k in range(3):\n",
    "    print('Padres: ',padres[k][0])\n",
    "    print('Madre: ',padres[k][1])\n",
    "    for x in range(len(hijos[k])):\n",
    "        print('Hijo: ', hijos[k][x])\n",
    "\n",
    "print('Listado del padre y cantidad de hijos que tiene')\n",
    "for x in range(3):\n",
    "    print('Padres: ',padres[x][0])\n",
    "    print('Cantidad de hijos: ', len(hijos[x]))\n",
    "dicionario = zip(padres, hijos)\n",
    "print(dicionario)"
   ]
  },
  {
   "cell_type": "code",
   "execution_count": 47,
   "metadata": {},
   "outputs": [
    {
     "name": "stdout",
     "output_type": "stream",
     "text": [
      "casa {'Diego': 12, 'Fer': 18}\n",
      "12\n"
     ]
    }
   ],
   "source": [
    "nombres = [\"Diego\", \"Fer\"]\n",
    "edades = [12, 18]\n",
    "dicionario = dict(zip(nombres, edades))\n",
    "print(\"casa\",dicionario)\n",
    "\n",
    "print(dicionario[\"Diego\"])\n"
   ]
  }
 ],
 "metadata": {
  "interpreter": {
   "hash": "ad2bdc8ecc057115af97d19610ffacc2b4e99fae6737bb82f5d7fb13d2f2c186"
  },
  "kernelspec": {
   "display_name": "Python 3.9.7 ('base')",
   "language": "python",
   "name": "python3"
  },
  "language_info": {
   "codemirror_mode": {
    "name": "ipython",
    "version": 3
   },
   "file_extension": ".py",
   "mimetype": "text/x-python",
   "name": "python",
   "nbconvert_exporter": "python",
   "pygments_lexer": "ipython3",
   "version": "3.9.7"
  },
  "orig_nbformat": 2
 },
 "nbformat": 4,
 "nbformat_minor": 2
}
