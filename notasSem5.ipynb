{
 "cells": [
  {
   "cell_type": "markdown",
   "metadata": {},
   "source": [
    "Semana 5 Datos, estructura de datos y bases de datos. \n",
    "Revisamos temas de map(), es un equiparable a un for que utiliza una función e utiliza un objeto iterable. "
   ]
  },
  {
   "cell_type": "code",
   "execution_count": 11,
   "metadata": {},
   "outputs": [
    {
     "name": "stdout",
     "output_type": "stream",
     "text": [
      "[[1525, [4, 2500, 3, 8500, 5, 12600]], [1520, [3, 2500, 8, 12600]], [1622, [1, 2500, 5, 8500, 2, 12600]]]\n"
     ]
    }
   ],
   "source": [
    "# # map(funcion, objeto iterable)\n",
    "# #map, envía un objeto interable, no se puede imprimir. \n",
    "from functools import reduce\n",
    "# lista = [2,34,5,2,1,45,3,3]\n",
    "# lista2 = []\n",
    "# #Así la porgramación imperativa\n",
    "# for i in lista:\n",
    "#     lista2.append(i**2)\n",
    "# print(lista2)\n",
    "\n",
    "# # print(list(map(lambda x: x**2, lista))) #paradigma funcional\n",
    "# bases= [2,3,4,5,6,6]\n",
    "# potencias=[2,3,4,5,6,7]\n",
    "\n",
    "# print(list(map(pow, bases, potencias))) #pow es power, potencia\n",
    "\n",
    "lista_Compras = [\n",
    "    [1525, [4, 2500],[3,8500],[5,12600]], #[No. factura, [cantidad. precio unidad]...]\n",
    "    [1520, [3, 2500],[8,12600]],\n",
    "    [1622, [1, 2500],[5,8500],[2,12600]]    \n",
    "]\n",
    "\n",
    "# list3 = list(map(lambda x: [x[0]] + [list(map(lambda y: y[0] * y[1], x[1:]))], lista_Compras))\n",
    "# print(list3)\n",
    "# hacer un debug pa entenderlo. Es con un for con un for anidado, pero es una función que tiene por parametro otra función. Las llaves. x[1:], significa en iteración de aquí en adelante. \n",
    "\n",
    "\n",
    "list3 = list(map(lambda x: [x[0]] + [reduce(lambda a, e: a + e, x[1:])], lista_Compras))\n",
    "print(list3)"
   ]
  },
  {
   "cell_type": "markdown",
   "metadata": {},
   "source": [
    "Función reduce, la cual debe ser importada de la librería 'functools'. Un objeto iterable es reducido en una nueva float, es como una función acomulativa de los elemento iterables.  Re organice las notas y estudie sobre rebanadas "
   ]
  }
 ],
 "metadata": {
  "interpreter": {
   "hash": "ad2bdc8ecc057115af97d19610ffacc2b4e99fae6737bb82f5d7fb13d2f2c186"
  },
  "kernelspec": {
   "display_name": "Python 3.9.7 ('base')",
   "language": "python",
   "name": "python3"
  },
  "language_info": {
   "codemirror_mode": {
    "name": "ipython",
    "version": 3
   },
   "file_extension": ".py",
   "mimetype": "text/x-python",
   "name": "python",
   "nbconvert_exporter": "python",
   "pygments_lexer": "ipython3",
   "version": "3.9.7"
  },
  "orig_nbformat": 4
 },
 "nbformat": 4,
 "nbformat_minor": 2
}
