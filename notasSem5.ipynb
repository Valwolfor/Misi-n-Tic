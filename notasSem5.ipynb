{
 "cells": [
  {
   "cell_type": "markdown",
   "metadata": {},
   "source": [
    "Semana 5 Datos, estructura de datos y bases de datos. \n",
    "Revisamos temas de map(), es un equiparable a un for que utiliza una función e utiliza un objeto iterable. "
   ]
  },
  {
   "cell_type": "code",
   "execution_count": 12,
   "metadata": {},
   "outputs": [
    {
     "name": "stdout",
     "output_type": "stream",
     "text": [
      "[4, 1156, 25, 4, 1, 2025, 9, 9]\n",
      "[4, 27, 256, 3125, 46656, 279936]\n"
     ]
    }
   ],
   "source": [
    "# # map(funcion, objeto iterable)\n",
    "# #map, envía un objeto interable, no se puede imprimir. \n",
    "from functools import reduce\n",
    "lista = [2,34,5,2,1,45,3,3]\n",
    "lista2 = []\n",
    "#Así la porgramación imperativa\n",
    "for i in lista:\n",
    "    lista2.append(i**2)\n",
    "print(lista2)\n",
    "\n",
    "# print(list(map(lambda x: x**2, lista))) #paradigma funcional\n",
    "bases= [2,3,4,5,6,6]\n",
    "potencias=[2,3,4,5,6,7]\n",
    "\n",
    "print(list(map(pow, bases, potencias))) #pow es power, potencia\n",
    "\n"
   ]
  },
  {
   "cell_type": "markdown",
   "metadata": {},
   "source": []
  },
  {
   "cell_type": "code",
   "execution_count": null,
   "metadata": {},
   "outputs": [],
   "source": []
  },
  {
   "cell_type": "markdown",
   "metadata": {},
   "source": [
    "Aquí podemos usar el map de forma que una función lambda tiene compo parametro otra lambda con la función reduce que entrega un unico resultado, sumando cada uno de los elementos de la lista_Compras para obterner el total por cada elemnto de la orden."
   ]
  },
  {
   "cell_type": "code",
   "execution_count": 33,
   "metadata": {},
   "outputs": [
    {
     "name": "stdout",
     "output_type": "stream",
     "text": [
      "[[1525, [4, 2500], [3, 8500], [5, 12600]], [1520, [3, 2500], [8, 12600]], [1622, [1, 2500], [5, 8500], [2, 12600]]]\n",
      "[[1525, 10000, 25500, 63000], [1520, 7500, 100800], [1622, 2500, 42500, 25200]]\n",
      "[[1525, 98500], [1520, 108300], [1622, 70200]]\n",
      "[[1525, 98500], [1520, 103300], [1622, 70200]] esto es 2\n"
     ]
    }
   ],
   "source": [
    "lista_Compras = [\n",
    "    [1525, [4, 2500],[3,8500],[5,12600]], #[No. factura, [cantidad. precio unidad]...]\n",
    "    [1520, [3, 2500],[8,12600]],\n",
    "    [1622, [1, 2500],[5,8500],[2,12600]]    \n",
    "]\n",
    "print(lista_Compras)\n",
    "list3 = list(map(lambda x: [x[0]] + list(map(lambda y: y[0] * y[1], x[1:])), lista_Compras))\n",
    "print(list3)\n",
    "# hacer un debug pa entenderlo. Es como un for con un for anidado, pero es una función que tiene por parametro otra función. Las llaves. x[1:], significa en iteración de aquí en adelante, para sacar rebanadas/slides. \n",
    "\n",
    "\n",
    "list4 = list(map(lambda x: [x[0]] + [reduce(lambda a,e: a + e, x[1:])], list3))\n",
    "\n",
    "print(list4)\n",
    "\n",
    "list5 = list(map(lambda x: x if x[1] < 100000 else [x[0]]+[x[1]-5000],list4)) #aplica descuento el else. \n",
    "print(list5, \"esto es 2\")"
   ]
  },
  {
   "cell_type": "markdown",
   "metadata": {},
   "source": [
    "Función reduce, la cual debe ser importada de la librería 'functools'. Un objeto iterable es reducido en una nueva float, es como una función acomulativa de los elemento iterables.  Re organice las notas y estudie sobre rebanadas "
   ]
  },
  {
   "cell_type": "markdown",
   "metadata": {},
   "source": [
    "Los archivos sirven para recibir y capturar grandes cantidades de información. Se puede tomar de diferentes recolectadores de archivos, el archivo CSV (comma separate values)., con separadores especificos según la solicitud. "
   ]
  },
  {
   "cell_type": "code",
   "execution_count": 1,
   "metadata": {},
   "outputs": [
    {
     "name": "stdout",
     "output_type": "stream",
     "text": [
      "  first_name  last_name  age  amount_1 amount_2\n",
      "0     Sigrid    Mannock   27      7.17     8.06\n",
      "1        Joe    Hinners   31      1.90        ?\n",
      "2  Theodoric     Rivers   36      1.11      5.9\n",
      "3    Kennedy    Donnell   53      1.41        ?\n",
      "4    Beatrix    Parlett   48      6.69        ?\n",
      "5    Olimpia   Guenther   36      4.62     7.48\n",
      "6     Grange      Douce   40      1.01     4.37\n",
      "7     Sallee  Johnstone   34      4.88        ?\n"
     ]
    }
   ],
   "source": [
    "import pandas as pd\n",
    "\n",
    "dicionario = {\n",
    "        'first_name': ['Sigrid', 'Joe', 'Theodoric','Kennedy', 'Beatrix', 'Olimpia', 'Grange', 'Sallee'],\n",
    "        'last_name': ['Mannock', 'Hinners', 'Rivers', 'Donnell', 'Parlett', 'Guenther', 'Douce', 'Johnstone'],\n",
    "        'age': [27, 31, 36, 53, 48, 36, 40, 34],\n",
    "        'amount_1': [7.17, 1.90, 1.11, 1.41, 6.69, 4.62, 1.01, 4.88],\n",
    "        'amount_2': [8.06,  \"?\", 5.90,  \"?\",  \"?\", 7.48, 4.37,  \"?\"]\n",
    "}\n",
    "\n",
    "df1= pd.DataFrame(dicionario) #convertirlo en un marco de datos, data frame\n",
    "\n",
    "print(df1)\n",
    "df1.to_csv(\"ejemplo.csv\", sep=\"|\" ) #convertiro a csv. Read sirve para traerlo."
   ]
  }
 ],
 "metadata": {
  "interpreter": {
   "hash": "ad2bdc8ecc057115af97d19610ffacc2b4e99fae6737bb82f5d7fb13d2f2c186"
  },
  "kernelspec": {
   "display_name": "Python 3.9.7 ('base')",
   "language": "python",
   "name": "python3"
  },
  "language_info": {
   "codemirror_mode": {
    "name": "ipython",
    "version": 3
   },
   "file_extension": ".py",
   "mimetype": "text/x-python",
   "name": "python",
   "nbconvert_exporter": "python",
   "pygments_lexer": "ipython3",
   "version": "3.9.7"
  },
  "orig_nbformat": 4
 },
 "nbformat": 4,
 "nbformat_minor": 2
}
